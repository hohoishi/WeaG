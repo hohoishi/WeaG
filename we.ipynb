{
 "cells": [
  {
   "cell_type": "code",
   "execution_count": 72,
   "metadata": {},
   "outputs": [
    {
     "name": "stdout",
     "output_type": "stream",
     "text": [
      "{\"success\":\"true\",\"result\":{\"resource_id\":\"O-A0003-001\",\"fields\":[{\"id\":\"StationName\",\"type\":\"String\"},{\"id\":\"StationId\",\"type\":\"String\"},{\"id\":\"CoordinateName\",\"type\":\"String\"},{\"id\":\"CoordinateFormat\",\"type\":\"String\"},{\"id\":\"StationAltitude\",\"type\":\"String\"},{\"id\":\"IntScaleValue\",\"type\":\"Float\"},{\"id\":\"StationAltitude\",\"type\":\"Float\"},{\"id\":\"CountyName\",\"type\":\"String\"},{\"id\":\"TownName\",\"type\":\"String\"},{\"id\":\"CountyCode\",\"type\":\"String\"},{\"id\":\"TownCode\",\"type\":\"String\"},{\"id\":\"Weather\",\"type\":\"String\"},{\"id\":\"VisibilityDescription\",\"type\":\"String\"},{\"id\":\"SunshineDuration\",\"type\":\"Float\"},{\"id\":\"Precipitation\",\"type\":\"Float\"},{\"id\":\"WindDirection\",\"type\":\"Float\"},{\"id\":\"WindSpeed\",\"type\":\"Float\"},{\"id\":\"AirTemperature\",\"type\":\"Float\"},{\"id\":\"RelativeHumidity\",\"type\":\"Integer\"},{\"id\":\"AirPressure\",\"type\":\"Float\"},{\"id\":\"UVIndex\",\"type\":\"Float\"},{\"id\":\"PeakGustSpeed\",\"type\":\"Float\"},{\"id\":\"DateTime\",\"type\":\"DateTime\"}]},\"records\":{\"Station\":[]}}\n"
     ]
    }
   ],
   "source": [
    "import requests\n",
    "import json\n",
    "import configparser\n",
    "config = configparser.ConfigParser()\n",
    "config.read('config.ini')\n",
    "AUTHENTICATION = config['WeaG']['AUTHENTICATION']\n",
    "StationName = '興海'\n",
    "\n",
    "url1 = 'https://opendata.cwa.gov.tw/api/v1/rest/datastore/O-A0003-001'\n",
    "url2 = 'https://opendata.cwa.gov.tw/api/v1/rest/datastore/O-A0001-001'\n",
    "url3 = 'https://opendata.cwa.gov.tw/api/v1/rest/datastore/O-A0002-001'\n",
    "\n",
    "params = {'Authorization':AUTHENTICATION,\n",
    "         'StationName':StationName}\n",
    "\n",
    "\n"
   ]
  },
  {
   "cell_type": "code",
   "execution_count": 92,
   "metadata": {},
   "outputs": [
    {
     "name": "stdout",
     "output_type": "stream",
     "text": [
      "没有数据,爬取url2\n",
      "興海 2024-08-22T20:00:00+08:00 29.1 0.84 0.0\n"
     ]
    }
   ],
   "source": [
    "\n",
    "#rain data\n",
    "r = requests.get(url3 , params=params)\n",
    "r_data = r.json()\n",
    "R = r_data['records']['Station'][0]['RainfallElement']['Now']['Precipitation']\n",
    "#------------------------------------------------------------------------------------\n",
    "\n",
    "\n",
    "r = requests.get(url1, params=params)\n",
    "data = r.json()\n",
    "if data['records']['Station']:\n",
    "\n",
    "    S = data['records']['Station'][0]['StationName']\n",
    "    O = data['records']['Station'][0]['ObsTime']['DateTime']\n",
    "    T = data['records']['Station'][0]['WeatherElement']['AirTemperature']\n",
    "    H = data['records']['Station'][0]['WeatherElement']['RelativeHumidity']/100\n",
    "    print(S,O,T,H)\n",
    "else:\n",
    "    print('没有数据,爬取url2')\n",
    "    \n",
    "    r = requests.get(url2, params=params)\n",
    "    data = r.json()\n",
    "    S = data['records']['Station'][0]['StationName']\n",
    "    O = data['records']['Station'][0]['ObsTime']['DateTime']\n",
    "    T = data['records']['Station'][0]['WeatherElement']['AirTemperature']\n",
    "    H = data['records']['Station'][0]['WeatherElement']['RelativeHumidity']/100\n",
    "    print(S,O,T,H,R)\n"
   ]
  }
 ],
 "metadata": {
  "kernelspec": {
   "display_name": "Python 3",
   "language": "python",
   "name": "python3"
  },
  "language_info": {
   "codemirror_mode": {
    "name": "ipython",
    "version": 3
   },
   "file_extension": ".py",
   "mimetype": "text/x-python",
   "name": "python",
   "nbconvert_exporter": "python",
   "pygments_lexer": "ipython3",
   "version": "3.10.7"
  },
  "orig_nbformat": 4
 },
 "nbformat": 4,
 "nbformat_minor": 2
}
