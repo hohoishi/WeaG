{
 "cells": [
  {
   "cell_type": "code",
   "execution_count": 31,
   "metadata": {},
   "outputs": [
    {
     "data": {
      "text/plain": [
       "{'R': 0.0, 'O': '2024-08-28T14:40:00+08:00', 'T': 32.0, 'H': 0.71}"
      ]
     },
     "execution_count": 31,
     "metadata": {},
     "output_type": "execute_result"
    }
   ],
   "source": [
    "import requests\n",
    "import json\n",
    "import configparser\n",
    "config = configparser.ConfigParser()\n",
    "config.read('config.ini')\n",
    "AUTHENTICATION = config['WeaG']['AUTHENTICATION']\n",
    "\n",
    "\n",
    "\n",
    "class WeaG():\n",
    "    url1 = 'https://opendata.cwa.gov.tw/api/v1/rest/datastore/O-A0003-001'\n",
    "    url2 = 'https://opendata.cwa.gov.tw/api/v1/rest/datastore/O-A0001-001'\n",
    "    url3 = 'https://opendata.cwa.gov.tw/api/v1/rest/datastore/O-A0002-001'\n",
    "\n",
    "    def grab(self , StationName):\n",
    "\n",
    "        params = {'Authorization':AUTHENTICATION,\n",
    "                    'StationName':StationName}\n",
    "        info = {}\n",
    "        #rain data\n",
    "        r = requests.get(__class__.url3 , params=params)#可以寫 WeaG.url3 or __class__.url3 or self.url3 但__class__最好\n",
    "        if r.json()['records']['Station']:\n",
    "            info['R'] = r.json()['records']['Station'][0]['RainfallElement']['Now']['Precipitation']\n",
    "        else:\n",
    "            print('沒有雨量資訊')\n",
    "        #------------------------------------------------------------------------------------\n",
    "        r = requests.get(__class__.url1, params=params)\n",
    "        if not r.json()['records']['Station']:     \n",
    "            print('url1沒有數據,爬取url2')\n",
    "            r = requests.get(__class__.url2, params=params) \n",
    " \n",
    "        if r.json()['records']['Station']:\n",
    "            info['O'] = r.json()['records']['Station'][0]['ObsTime']['DateTime']\n",
    "            info['T'] = float((r.json()['records']['Station'][0]['WeatherElement']['AirTemperature']))\n",
    "            info['H'] = float(r.json()['records']['Station'][0]['WeatherElement']['RelativeHumidity'])/100\n",
    "        return info\n",
    "\n",
    "w = WeaG()\n",
    "\n",
    "w.grab('臺北')"
   ]
  },
  {
   "cell_type": "code",
   "execution_count": 89,
   "metadata": {},
   "outputs": [],
   "source": [
    "from threading import Thread\n",
    "import requests\n",
    "import json\n",
    "\n",
    "env = json.load(open('env.json'))\n",
    "AUTHENTICATION = env['token']\n",
    "\n",
    "\n",
    "class WeaG:\n",
    "    url = ['https://opendata.cwa.gov.tw/api/v1/rest/datastore/O-A0003-001',\n",
    "   'https://opendata.cwa.gov.tw/api/v1/rest/datastore/O-A0001-001',\n",
    "   'https://opendata.cwa.gov.tw/api/v1/rest/datastore/O-A0002-001']\n",
    "    def grab(self , site):\n",
    "\n",
    "\n",
    "        def _grab(url, site ):\n",
    "            nonlocal info \n",
    "\n",
    "            params = {'Authorization':AUTHENTICATION,\n",
    "                            'StationName':site}\n",
    "            \n",
    "            r = requests.get(url, params=params)\n",
    "            if r.json()['records']['Station']:\n",
    "                s = r.json()['records']['Station'][0]\n",
    "                info['O'] = r.json()['records']['Station'][0]['ObsTime']['DateTime']\n",
    "                if 'WeatherElement' in s :\n",
    "\n",
    "                    info['T'] = float((r.json()['records']['Station'][0]['WeatherElement']['AirTemperature']))\n",
    "                    info['H'] = float(r.json()['records']['Station'][0]['WeatherElement']['RelativeHumidity'])/100\n",
    "                elif 'RainfallElement' in s :\n",
    "                    info['R'] = r.json()['records']['Station'][0]['RainfallElement']['Now']['Precipitation']\n",
    "        \n",
    "\n",
    "        info = {}\n",
    "        ths = [None] * len(__class__.url)\n",
    "        for i in range(len(__class__.url)):\n",
    "            ths[i] = Thread(target=_grab, args=(__class__.url[i],site),daemon=True)\n",
    "            ths[i].start()\n",
    "            ths[i].join()\n",
    "        return info"
   ]
  },
  {
   "cell_type": "code",
   "execution_count": 90,
   "metadata": {},
   "outputs": [
    {
     "data": {
      "text/plain": [
       "'CWA-A6EB675C-AA59-4C54-B9B7-73D10BDF3627'"
      ]
     },
     "execution_count": 90,
     "metadata": {},
     "output_type": "execute_result"
    }
   ],
   "source": [
    "w= WeaG()\n",
    "w.grab('興海')"
   ]
  },
  {
   "cell_type": "code",
   "execution_count": 29,
   "metadata": {},
   "outputs": [
    {
     "name": "stdout",
     "output_type": "stream",
     "text": [
      "1\n",
      "4\n",
      "1\n",
      "1\n",
      "2\n",
      "0\n",
      "3\n",
      "2\n",
      "1\n",
      "3\n"
     ]
    }
   ],
   "source": [
    "from threading import Thread\n",
    "from random import randint\n",
    "from time import sleep , time\n",
    "\n",
    "def test(i,j):\n",
    "    global r\n",
    "    a = randint(0,5)\n",
    "    sleep(a)\n",
    "    r[i] =  a\n",
    "\n",
    "ths = [None] * 10   \n",
    "r = [None] * 10 \n",
    "\n",
    "\n",
    "\n",
    "for i in range(10):\n",
    "    ths[i] = Thread(target=test,args=(i,i+1), daemon=True)\n",
    "    ths[i].start()\n",
    "\n",
    "start = time()\n",
    "timeout = 2\n",
    "for i in range(10):\n",
    "    t = time() - start\n",
    "    if t > timeout:\n",
    "        break\n",
    "    ths[i].join()\n",
    "\n",
    "for i in range(10):\n",
    "    print(r[i])\n"
   ]
  }
 ],
 "metadata": {
  "kernelspec": {
   "display_name": "Python 3",
   "language": "python",
   "name": "python3"
  },
  "language_info": {
   "codemirror_mode": {
    "name": "ipython",
    "version": 3
   },
   "file_extension": ".py",
   "mimetype": "text/x-python",
   "name": "python",
   "nbconvert_exporter": "python",
   "pygments_lexer": "ipython3",
   "version": "3.10.7"
  },
  "orig_nbformat": 4
 },
 "nbformat": 4,
 "nbformat_minor": 2
}
