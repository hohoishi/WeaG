{
 "cells": [
  {
   "cell_type": "code",
   "execution_count": 32,
   "metadata": {},
   "outputs": [],
   "source": [
    "import requests\n",
    "import json\n",
    "import configparser\n",
    "config = configparser.ConfigParser()\n",
    "config.read('config.ini')\n",
    "AUTHENTICATION = config['WeaG']['AUTHENTICATION']\n",
    "\n",
    "\n",
    "\n",
    "class WeaG():\n",
    "    url1 = 'https://opendata.cwa.gov.tw/api/v1/rest/datastore/O-A0003-001'\n",
    "    url2 = 'https://opendata.cwa.gov.tw/api/v1/rest/datastore/O-A0001-001'\n",
    "    url3 = 'https://opendata.cwa.gov.tw/api/v1/rest/datastore/O-A0002-001'\n",
    "\n",
    "    def grab(self , StationName):\n",
    "\n",
    "        params = {'Authorization':AUTHENTICATION,\n",
    "                    'StationName':StationName}\n",
    "        info = {}\n",
    "        #rain data\n",
    "        r = requests.get(__class__.url3 , params=params)#可以寫 WeaG.url3 or __class__.url3 or self.url3 但__class__最好\n",
    "        if r.json()['records']['Station']:\n",
    "            info['R'] = r.json()['records']['Station'][0]['RainfallElement']['Now']['Precipitation']\n",
    "        else:\n",
    "            print('沒有雨量資訊')\n",
    "        #------------------------------------------------------------------------------------\n",
    "        r = requests.get(__class__.url1, params=params)\n",
    "        if not r.json()['records']['Station']:     \n",
    "            print('url1沒有數據,爬取url2')\n",
    "            r = requests.get(__class__.url2, params=params) \n",
    " \n",
    "        if r.json()['records']['Station']:\n",
    "            info['O'] = r.json()['records']['Station'][0]['ObsTime']['DateTime']\n",
    "            info['T'] = float((r.json()['records']['Station'][0]['WeatherElement']['AirTemperature']))\n",
    "            info['H'] = float(r.json()['records']['Station'][0]['WeatherElement']['RelativeHumidity'])/100\n",
    "        return info\n",
    "\n"
   ]
  },
  {
   "cell_type": "code",
   "execution_count": 33,
   "metadata": {},
   "outputs": [
    {
     "data": {
      "text/plain": [
       "{'R': 0.0, 'O': '2024-08-27T20:40:00+08:00', 'T': 31.4, 'H': 0.67}"
      ]
     },
     "execution_count": 33,
     "metadata": {},
     "output_type": "execute_result"
    }
   ],
   "source": [
    "w = WeaG()\n",
    "\n",
    "w.grab('臺北')"
   ]
  },
  {
   "cell_type": "code",
   "execution_count": 31,
   "metadata": {},
   "outputs": [
    {
     "name": "stdout",
     "output_type": "stream",
     "text": [
      "0 1\n",
      "1 2\n",
      "2 3\n",
      "3 4\n",
      "4 5\n",
      "5 6\n",
      "6 7\n",
      "7 8\n",
      "8 9\n",
      "9 10\n"
     ]
    }
   ],
   "source": [
    "from threading import Thread\n",
    "\n",
    "def test(i,j):\n",
    "    print(i,j)\n",
    "ths = []\n",
    "for i in range(10):\n",
    "    ths.append(Thread(target=test,args=(i,i+1)))\n",
    "    ths[i].start()"
   ]
  }
 ],
 "metadata": {
  "kernelspec": {
   "display_name": "Python 3",
   "language": "python",
   "name": "python3"
  },
  "language_info": {
   "codemirror_mode": {
    "name": "ipython",
    "version": 3
   },
   "file_extension": ".py",
   "mimetype": "text/x-python",
   "name": "python",
   "nbconvert_exporter": "python",
   "pygments_lexer": "ipython3",
   "version": "3.10.7"
  },
  "orig_nbformat": 4
 },
 "nbformat": 4,
 "nbformat_minor": 2
}
